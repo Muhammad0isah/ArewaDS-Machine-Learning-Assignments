{
 "cells": [
  {
   "cell_type": "markdown",
   "metadata": {
    "collapsed": false
   },
   "source": [
    "## INTRODUCTION TO MACHINE LEARNING"
   ]
  },
  {
   "cell_type": "markdown",
   "metadata": {
    "collapsed": false
   },
   "source": [
    "### Differences between AI, ML, deep learning, and data science."
   ]
  },
  {
   "cell_type": "markdown",
   "metadata": {
    "collapsed": false
   },
   "source": [
    "<dl>\n",
    "<dt>Artificial Intelligence</dt>\n",
    "<dd>simulation of human intelligence in machines that are programmed to think like humans and mimic their actions</dt>\n",
    "<dt>Machine Learning</dt>\n",
    "<dd>Machine Learning is making the computer learn from studying data and statistics.ML the first step into the direction of AI, it involve analyse data and learn to predict outcome. </dd>\n",
    "<dt>Deep Learning</dt>\n",
    "<dd>DL is a  subset of Machine learning based on Artificial Neural Newtorks. it can be used to increase the complexity and improve performance of the Machine Learning algorithm</dd>\n",
    "<dt>Data Science</dt>\n",
    "<dd>Data Science cover all i.e (AI,ML and DL). is a study of data to extract meaningful insight for business </dd>\n",
    "</dl>"
   ]
  },
  {
   "cell_type": "markdown",
   "metadata": {
    "collapsed": false
   },
   "source": [
    "## My Sketch using Excalidraw\n",
    "![sketch](Excalidraw_sketch/DS.png)"
   ]
  },
  {
   "cell_type": "markdown",
   "metadata": {},
   "source": [
    "<dl>\n",
    "<dt>Artificial Intelligence</dt>\n",
    "<dd>simulation of human intelligence in machines that are programmed to think like humans and mimic their actions</dt>\n",
    "<dt>Machine Learning</dt>\n",
    "<dd>Machine Learning is making the computer learn from studying data and statistics.ML the first step into the direction of AI, it involve analyse data and learn to predict outcome. </dd>\n",
    "<dt>Deep Learning</dt>\n",
    "<dd>DL is a  subset of Machine learning based on Artificial Neural Newtorks. it can be used to increase the complexity and improve performance of the Machine Learning algorithm</dd>\n",
    "<dt>Data Science</dt>\n",
    "<dd>Data Science cover all i.e (AI,ML and DL). is a study of data to extract meaningful insight for business </dd>\n",
    "</dl>"
   ]
  },
  {
   "cell_type": "markdown",
   "metadata": {},
   "source": [
    "<dl>\n",
    "<dt>Artificial Intelligence</dt>\n",
    "<dd>simulation of human intelligence in machines that are programmed to think like humans and mimic their actions</dt>\n",
    "<dt>Machine Learning</dt>\n",
    "<dd>Machine Learning is making the computer learn from studying data and statistics.ML the first step into the direction of AI, it involve analyse data and learn to predict outcome. </dd>\n",
    "<dt>Deep Learning</dt>\n",
    "<dd>DL is a  subset of Machine learning based on Artificial Neural Newtorks. it can be used to increase the complexity and improve performance of the Machine Learning algorithm</dd>\n",
    "<dt>Data Science</dt>\n",
    "<dd>Data Science cover all i.e (AI,ML and DL). is a study of data to extract meaningful insight for business </dd>\n",
    "</dl>"
   ]
  },
  {
   "cell_type": "markdown",
   "metadata": {},
   "source": [
    "<dl>\n",
    "<dt>Artificial Intelligence</dt>\n",
    "<dd>simulation of human intelligence in machines that are programmed to think like humans and mimic their actions</dt>\n",
    "<dt>Machine Learning</dt>\n",
    "<dd>Machine Learning is making the computer learn from studying data and statistics.ML the first step into the direction of AI, it involve analyse data and learn to predict outcome. </dd>\n",
    "<dt>Deep Learning</dt>\n",
    "<dd>DL is a  subset of Machine learning based on Artificial Neural Newtorks. it can be used to increase the complexity and improve performance of the Machine Learning algorithm</dd>\n",
    "<dt>Data Science</dt>\n",
    "<dd>Data Science cover all i.e (AI,ML and DL). is a study of data to extract meaningful insight for business </dd>\n",
    "</dl>"
   ]
  },
  {
   "cell_type": "markdown",
   "metadata": {},
   "source": [
    "<dl>\n",
    "<dt>Artificial Intelligence</dt>\n",
    "<dd>simulation of human intelligence in machines that are programmed to think like humans and mimic their actions</dt>\n",
    "<dt>Machine Learning</dt>\n",
    "<dd>Machine Learning is making the computer learn from studying data and statistics.ML the first step into the direction of AI, it involve analyse data and learn to predict outcome. </dd>\n",
    "<dt>Deep Learning</dt>\n",
    "<dd>DL is a  subset of Machine learning based on Artificial Neural Newtorks. it can be used to increase the complexity and improve performance of the Machine Learning algorithm</dd>\n",
    "<dt>Data Science</dt>\n",
    "<dd>Data Science cover all i.e (AI,ML and DL). is a study of data to extract meaningful insight for business </dd>\n",
    "</dl>"
   ]
  },
  {
   "cell_type": "markdown",
   "metadata": {},
   "source": [
    "<dl>\n",
    "<dt>Artificial Intelligence</dt>\n",
    "<dd>simulation of human intelligence in machines that are programmed to think like humans and mimic their actions</dt>\n",
    "<dt>Machine Learning</dt>\n",
    "<dd>Machine Learning is making the computer learn from studying data and statistics.ML the first step into the direction of AI, it involve analyse data and learn to predict outcome. </dd>\n",
    "<dt>Deep Learning</dt>\n",
    "<dd>DL is a  subset of Machine learning based on Artificial Neural Newtorks. it can be used to increase the complexity and improve performance of the Machine Learning algorithm</dd>\n",
    "<dt>Data Science</dt>\n",
    "<dd>Data Science cover all i.e (AI,ML and DL). is a study of data to extract meaningful insight for business </dd>\n",
    "</dl>"
   ]
  }
 ],
 "metadata": {
  "kernelspec": {
   "display_name": "Python 3",
   "language": "python",
   "name": "python3"
  },
  "language_info": {
   "codemirror_mode": {
    "name": "ipython",
    "version": 2
   },
   "file_extension": ".py",
   "mimetype": "text/x-python",
   "name": "python",
   "nbconvert_exporter": "python",
   "pygments_lexer": "ipython2",
   "version": "2.7.6"
  }
 },
 "nbformat": 4,
 "nbformat_minor": 0
}
